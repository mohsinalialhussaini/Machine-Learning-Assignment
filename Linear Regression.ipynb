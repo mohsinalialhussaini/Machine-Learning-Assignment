{
 "cells": [
  {
   "cell_type": "markdown",
   "metadata": {},
   "source": [
    "# Q3:b"
   ]
  },
  {
   "cell_type": "code",
   "execution_count": 1,
   "metadata": {},
   "outputs": [],
   "source": [
    "import pandas as pd\n",
    "import numpy as np\n",
    "import matplotlib.pyplot as plt\n",
    "import seaborn as sns\n",
    "from sklearn.model_selection import train_test_split \n",
    "from sklearn.linear_model import LinearRegression"
   ]
  },
  {
   "cell_type": "code",
   "execution_count": 4,
   "metadata": {},
   "outputs": [],
   "source": [
    "data = pd.read_csv(\"boston_train.csv\")\n",
    "data.drop('ID', axis = 1, inplace=True)\n",
    "X=data.drop(\"medv\",1).values\n",
    "Y=data[\"medv\"].values"
   ]
  },
  {
   "cell_type": "code",
   "execution_count": 5,
   "metadata": {},
   "outputs": [],
   "source": [
    "X_train, X_test, y_train, y_test = train_test_split(X, y, test_size=0.3)"
   ]
  },
  {
   "cell_type": "code",
   "execution_count": 7,
   "metadata": {},
   "outputs": [
    {
     "data": {
      "text/plain": [
       "LinearRegression(copy_X=True, fit_intercept=True, n_jobs=None, normalize=False)"
      ]
     },
     "execution_count": 7,
     "metadata": {},
     "output_type": "execute_result"
    }
   ],
   "source": [
    "model = LinearRegression()\n",
    "model.fit(X_train,y_train)"
   ]
  },
  {
   "cell_type": "code",
   "execution_count": 8,
   "metadata": {},
   "outputs": [
    {
     "name": "stdout",
     "output_type": "stream",
     "text": [
      "[13.38089606 11.74525498 15.1330555  33.84995248 22.65892081 17.50763061\n",
      " 36.60583333 38.98561943 -0.71495988 26.50927314 18.37543787 33.69703137\n",
      " 25.55731708 20.52807781 28.33676489 20.30719958 20.86796053 28.07149939\n",
      "  9.43696035 22.59166383 35.28169726 23.98131212 15.18457197  7.91273036\n",
      " 25.26664102 17.71664661 19.16735769 24.67701485 34.95192899 26.14921331\n",
      " 20.92917088 23.20267359 25.55496384 22.76615851 21.35941126  7.67207182\n",
      " 23.17066947 23.43477139 21.04158437 43.31420954 25.9925281  12.17152296\n",
      " 20.56438778 18.0179369  15.7661102  14.30295309 23.83309454 16.16465925\n",
      " 22.90410208 25.05872581 22.83711099 22.07790851 25.00887702 32.18878703\n",
      " 27.80514317 11.60336582 29.31141679 25.11908625 30.48381393 22.55044339\n",
      " 34.40196199 17.0780151  20.28830857 23.20669167 30.56505546 11.08937764\n",
      " 24.76326024  5.87648379 13.37951828 25.9150158  22.01631879 27.81704864\n",
      " 28.15337783 18.35011741 25.06228188 18.49018795 28.95092762 13.27707241\n",
      " 15.2493772  33.19050239 23.99006372 13.88957003 19.06865218 14.7212488\n",
      " 14.67846089 24.39443757 25.88614524 20.51035026 26.76392244 39.87564549\n",
      " 21.47776941 23.47645343 19.06486207  5.78651397 24.03355102 13.30248235\n",
      " 24.58362354 29.69708964  0.10432201 21.64096744]\n"
     ]
    }
   ],
   "source": [
    "predictions = model.predict(X_test) \n",
    " \n",
    "print(predictions)"
   ]
  },
  {
   "cell_type": "code",
   "execution_count": 9,
   "metadata": {},
   "outputs": [
    {
     "data": {
      "image/png": "[encoded data removed]",
      "text/plain": [
       "<Figure size 432x288 with 1 Axes>"
      ]
     },
     "metadata": {
      "needs_background": "light"
     },
     "output_type": "display_data"
    }
   ],
   "source": [
    "plt.scatter(y_test, predictions)\n",
    "plt.xlabel('Y Test')\n",
    "plt.ylabel('Predicted Y')\n",
    "plt.show()"
   ]
  },
  {
   "cell_type": "code",
   "execution_count": 11,
   "metadata": {},
   "outputs": [
    {
     "name": "stdout",
     "output_type": "stream",
     "text": [
      "simple Linear Regression\n",
      "MAE: 3.992735962724556\n",
      "MSE: 27.353021463059793\n",
      "RMSE: 5.230011612134317\n"
     ]
    }
   ],
   "source": [
    "from sklearn import metrics\n",
    "print('simple Linear Regression')\n",
    "print('MAE:', metrics.mean_absolute_error(y_test, predictions))\n",
    "print('MSE:', metrics.mean_squared_error(y_test, predictions))\n",
    "print('RMSE:', np.sqrt(metrics.mean_squared_error(y_test, predictions)))"
   ]
  },
  {
   "cell_type": "markdown",
   "metadata": {},
   "source": [
    "# What I Analize:"
   ]
  },
  {
   "cell_type": "raw",
   "metadata": {},
   "source": [
    "It is not possible to make linear line because the data of Boston Train have many attributes . If it has only one attribute then its possible to make a linear line ."
   ]
  },
  {
   "cell_type": "code",
   "execution_count": null,
   "metadata": {},
   "outputs": [],
   "source": []
  }
 ],
 "metadata": {
  "kernelspec": {
   "display_name": "Python 3",
   "language": "python",
   "name": "python3"
  },
  "language_info": {
   "codemirror_mode": {
    "name": "ipython",
    "version": 3
   },
   "file_extension": ".py",
   "mimetype": "text/x-python",
   "name": "python",
   "nbconvert_exporter": "python",
   "pygments_lexer": "ipython3",
   "version": "3.7.3"
  }
 },
 "nbformat": 4,
 "nbformat_minor": 2
}
