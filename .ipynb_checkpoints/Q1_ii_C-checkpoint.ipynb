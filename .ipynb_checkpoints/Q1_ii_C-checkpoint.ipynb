{
 "cells": [
  {
   "cell_type": "markdown",
   "metadata": {},
   "source": [
    "#                             Q1(ii.C)"
   ]
  },
  {
   "cell_type": "code",
   "execution_count": 7,
   "metadata": {},
   "outputs": [],
   "source": [
    "import pandas as pd\n",
    "import numpy as np\n",
    "import matplotlib.pyplot as plt\n",
    "import seaborn as sns\n",
    "from sklearn.model_selection import train_test_split\n",
    "from sklearn.linear_model import LinearRegression\n",
    "from sklearn import metrics\n",
    "import random\n",
    "\n",
    "\n",
    "BostonTrain = pd.read_csv(\"boston_train.csv\")\n",
    "x = BostonTrain.drop('medv',1)\n",
    "y = BostonTrain['medv']\n"
   ]
  },
  {
   "cell_type": "code",
   "execution_count": 11,
   "metadata": {},
   "outputs": [
    {
     "name": "stdout",
     "output_type": "stream",
     "text": [
      "MSE: 21.46727120804521 percentage =  10\n",
      "MSE: 24.65863906241685 percentage =  22\n",
      "MSE: 29.258997588579444 percentage =  29\n",
      "MSE: 31.22839899978287 percentage =  11\n",
      "MSE: 25.76453358995166 percentage =  78\n",
      "MSE: 30.50882424588408 percentage =  91\n",
      "MSE: 32.8729177858047 percentage =  27\n",
      "MSE: 29.259819474180293 percentage =  32\n",
      "MSE: 23.744516398501325 percentage =  9\n",
      "MSE: 20.562551433883154 percentage =  15\n"
     ]
    }
   ],
   "source": [
    "AX = 10\n",
    "for i in range(10):\n",
    "    x_train, x_test, y_train, y_test =train_test_split(x, y, test_size=AX)\n",
    "    model = LinearRegression()\n",
    "    model.fit(x_train,y_train)\n",
    "    predictions = model.predict(x_test)\n",
    "    print('MSE:',metrics.mean_squared_error(y_test, predictions), 'percentage = ',AX)\n",
    "    AX = random.randint(1,99)\n",
    "\n",
    "    "
   ]
  },
  {
   "cell_type": "markdown",
   "metadata": {},
   "source": [
    "## MY OBSERVATION: % jitna kam uthana acha result\n",
    "                                "
   ]
  },
  {
   "cell_type": "code",
   "execution_count": null,
   "metadata": {},
   "outputs": [],
   "source": []
  }
 ],
 "metadata": {
  "kernelspec": {
   "display_name": "Python 3",
   "language": "python",
   "name": "python3"
  },
  "language_info": {
   "codemirror_mode": {
    "name": "ipython",
    "version": 3
   },
   "file_extension": ".py",
   "mimetype": "text/x-python",
   "name": "python",
   "nbconvert_exporter": "python",
   "pygments_lexer": "ipython3",
   "version": "3.7.3"
  }
 },
 "nbformat": 4,
 "nbformat_minor": 2
}
