{
 "cells": [
  {
   "cell_type": "code",
   "execution_count": 1,
   "metadata": {},
   "outputs": [],
   "source": [
    "import pandas as pd\n",
    "import numpy as np\n",
    "import matplotlib.pyplot as plt\n",
    "import seaborn as sns\n",
    "from sklearn.model_selection import train_test_split \n",
    "from sklearn.linear_model import LinearRegression"
   ]
  },
  {
   "cell_type": "code",
   "execution_count": 6,
   "metadata": {},
   "outputs": [],
   "source": [
    "BTdata = pd.read_csv(\"boston_train.csv\")\n",
    "X = BTdata.drop('medv',1)\n",
    "y = BTdata['medv']"
   ]
  },
  {
   "cell_type": "code",
   "execution_count": 11,
   "metadata": {},
   "outputs": [],
   "source": [
    "from sklearn import metrics"
   ]
  },
  {
   "cell_type": "code",
   "execution_count": 21,
   "metadata": {},
   "outputs": [
    {
     "name": "stdout",
     "output_type": "stream",
     "text": [
      "MSE: 23.306825974379244 \t split:  0.3\n",
      "MSE: 34.090746713502114 \t split:  0.31\n",
      "MSE: 26.083628539635868 \t split:  0.32\n",
      "MSE: 25.691095199200337 \t split:  0.33\n",
      "MSE: 22.582939216553154 \t split:  0.34\n",
      "MSE: 28.569926691642895 \t split:  0.35000000000000003\n",
      "MSE: 31.57068535004706 \t split:  0.36000000000000004\n",
      "MSE: 18.18856950791329 \t split:  0.37000000000000005\n",
      "MSE: 38.84348063474589 \t split:  0.38000000000000006\n",
      "MSE: 29.361514292265404 \t split:  0.39000000000000007\n",
      "MSE: 28.76840949625344 \t split:  0.4000000000000001\n",
      "MSE: 27.914556398336067 \t split:  0.4100000000000001\n",
      "MSE: 24.96052604827006 \t split:  0.4200000000000001\n",
      "MSE: 20.451822747337886 \t split:  0.4300000000000001\n",
      "MSE: 25.623928437642103 \t split:  0.4400000000000001\n",
      "MSE: 32.67377233206825 \t split:  0.4500000000000001\n",
      "MSE: 24.67027542100828 \t split:  0.46000000000000013\n",
      "MSE: 30.125690663970992 \t split:  0.47000000000000014\n",
      "MSE: 29.35711807718578 \t split:  0.48000000000000015\n",
      "MSE: 27.80623477812823 \t split:  0.49000000000000016\n"
     ]
    }
   ],
   "source": [
    "x=0.3\n",
    "for i in range(20):\n",
    "    \n",
    "    X_train, X_test, y_train, y_test =train_test_split(X, y, test_size=x) \n",
    "    model = LinearRegression()\n",
    "    model.fit(X_train,y_train) \n",
    "    predictions = model.predict(X_test)\n",
    "    print('MSE:',metrics.mean_squared_error(y_test,predictions),'\\t split: ',x)\n",
    "    x= x + 0.01"
   ]
  },
  {
   "cell_type": "markdown",
   "metadata": {},
   "source": [
    "# My Observation "
   ]
  },
  {
   "cell_type": "raw",
   "metadata": {},
   "source": [
    "we have to spilt with suitable value if we used unsuitable spilting technique then it will get high error ratio in resultant.\n",
    "example:\n",
    "if we have 100 rows data so if we spilt it with 60% and 40% ,60% use for traing our model and 40% for testing so we got better result."
   ]
  },
  {
   "cell_type": "code",
   "execution_count": null,
   "metadata": {},
   "outputs": [],
   "source": []
  }
 ],
 "metadata": {
  "kernelspec": {
   "display_name": "Python 3",
   "language": "python",
   "name": "python3"
  },
  "language_info": {
   "codemirror_mode": {
    "name": "ipython",
    "version": 3
   },
   "file_extension": ".py",
   "mimetype": "text/x-python",
   "name": "python",
   "nbconvert_exporter": "python",
   "pygments_lexer": "ipython3",
   "version": "3.7.3"
  }
 },
 "nbformat": 4,
 "nbformat_minor": 2
}
